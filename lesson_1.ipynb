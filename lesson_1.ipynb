{
 "cells": [
  {
   "cell_type": "markdown",
   "metadata": {},
   "source": [
    "Урок 1. Основы"
   ]
  },
  {
   "cell_type": "code",
   "execution_count": 13,
   "metadata": {},
   "outputs": [
    {
     "name": "stdout",
     "output_type": "stream",
     "text": [
      "<Response [200]>\n"
     ]
    }
   ],
   "source": [
    "import requests\n",
    "head ={'User-Agent': 'YaBrowser/19.7.5.90.01'}\n",
    "req = requests.get('https://postman-echo.com',headers = head)\n",
    "print(req)"
   ]
  },
  {
   "cell_type": "code",
   "execution_count": 14,
   "metadata": {},
   "outputs": [
    {
     "name": "stdout",
     "output_type": "stream",
     "text": [
      "b'<!DOCTYPE html>\\n<html lang=\"en\">\\n  <head>\\n    <meta charset=\"utf-8\">\\n    <meta http-equiv=\"X-UA-Compatible\" content=\"IE=edge\">\\n    <meta name=\"viewport\" content=\"width=device-width, initial-scale=1\">\\n      <meta name=\"ownerId\" content=\"631643\">\\n      <meta name=\"publishedId\" content=\"JsLv\">\\n\\n      <meta name=\"description\" content=\"Postman Echo is service you can use to test your REST clients and make sample API calls. It provides endpoints for &#x60;GET&#x60;, &#x60;POST&#x60;, &#x60;PUT&#x60;, various auth mechanisms and other utility endpoints.\\n\\nThe documentation for the endpoints as well as example responses can be found at [https://postman-echo.com](https://postman-echo.com/?source&#x3D;echo-collection-app-onboarding)\">\\n    <meta name=\"generator\" content=\"Postman Documenter\">\\n      <title>Postman Echo</title>\\n\\n    <!-- Google Tag Manager -->\\n    <script nonce=\"6u1vwYcjrpWFwkj9JpLuD+xRpjVPqg749DmnRZ7nHKOsL9AP\">(function(w,d,s,l,i){w[l]=w[l]||[];w[l].push({\\'gtm.start\\':\\n    new Date().getTime(),event:\\'gtm.js\\'});var f=d.getElementsByTagName(s)[0],\\n    j=d.createElement(s),dl=l!=\\'dataLayer\\'?\\'&l=\\'+l:\\'\\';j.async=true;j.src=\\n    \\'https://www.googletagmanager.com/gtm.js?id=\\'+i+dl;f.parentNode.insertBefore(j,f);\\n    })(window,document,\\'script\\',\\'dataLayer\\',\\'GTM-KCKQFT\\');</script>\\n    <!-- End Google Tag Manager -->\\n\\n    <link href=\\'https://fonts.googleapis.com/css?family=Open+Sans:400,600,300,700,800\\' rel=\\'stylesheet\\' type=\\'text/css\\'>\\n    <link rel=\"stylesheet\" type=\"text/css\" href=\"/styles/production.min.css\">\\n      <link rel=\"stylesheet\" type=\"text/css\" href=\"/styles/custom.scss?top-bar=FFFFFF&right-sidebar=303030&highlight=EF5B25&\">\\n\\n      <link rel=\"shortcut icon\" href=\"https://postman-echo.com/favicon.ico\" />\\n    <link rel=\"shortcut icon\" href=\"/favicon.ico\" />\\n      <link rel=\"shortcut icon\" href=\"https://postman-echo.com/favicon.ico\" />\\n\\n      <link rel=\"stylesheet\" href=\"https://run.pstmn.io/button.css\">\\n\\n    <script src=\"/js/messenger-setup.js\" nonce=\"6u1vwYcjrpWFwkj9JpLuD+xRpjVPqg749DmnRZ7nHKOsL9AP\"></script>\\n      <meta property=\"og:title\" content=\"Postman Echo\" />\\n      <meta property=\"og:description\" content=\"Postman Echo is service you can use to test your REST clients and make sample API calls. It provides endpoints for &#x60;GET&#x60;, &#x60;POST&#x60;, &#x60;PUT&#x60;, various auth mechanisms and other utility endpoints.\\n\\nThe documentation for the endpoints as well as example responses can be found at [https://postman-echo.com](https://postman-echo.com/?source&#x3D;echo-collection-app-onboarding)\" />\\n      <meta property=\"og:site_name\" content=\"Postman Echo\" />\\n      <meta property=\"og:url\" content=\"https://docs.postman-echo.com\" />\\n      <meta property=\"og:image\" content=\"https://res.cloudinary.com/postman/image/upload/w_152,h_56,c_fit,f_auto,t_team_logo/v1/team/2893aede23f01bfcbd2319326bc96a6ed0524eba759745ed6d73405a3a8b67a8\" />\\n\\n\\n      <meta name=\"twitter:title\" value=\"Postman Echo\" />\\n      <meta name=\"twitter:description\" value=\"Postman Echo is service you can use to test your REST clients and make sample API calls. It provides endpoints for &#x60;GET&#x60;, &#x60;POST&#x60;, &#x60;PUT&#x60;, various auth mechanisms and other utility endpoints.\\n\\nThe documentation for the endpoints as well as example responses can be found at [https://postman-echo.com](https://postman-echo.com/?source&#x3D;echo-collection-app-onboarding)\" />\\n    <meta name=\"twitter:card\" content=\"summary\">\\n      <meta name=\"twitter:domain\" value=\"https://docs.postman-echo.com\" />\\n      <meta name=\"twitter:image\" content=\"https://res.cloudinary.com/postman/image/upload/w_152,h_56,c_fit,f_auto,t_team_logo/v1/team/2893aede23f01bfcbd2319326bc96a6ed0524eba759745ed6d73405a3a8b67a8\" />\\n    <meta name=\"twitter:label1\" value=\"Last Update\" />\\n    <meta name=\"twitter:data1\" value=\"\" />\\n  </head>\\n\\n  <body>\\n  <!-- Google Tag Manager (noscript) -->\\n  <noscript><iframe src=\"https://www.googletagmanager.com/ns.html?id=GTM-KCKQFT\"\\n  height=\"0\" width=\"0\" style=\"display:none;visibility:hidden\"></iframe></noscript>\\n  <!-- End Google Tag Manager (noscript) -->\\n\\n    <div class=\"layout\">\\n      <div class=\"top-bar\">\\n        <div id=\"menu-toggle\" class=\"visible-xs visible-sm\"></div>\\n      \\n          <div class=\"branded-logo\" data-identity-href=\"https://res.cloudinary.com/postman/image/upload/w_152,h_56,c_fit,f_auto,t_team_logo/v1/team/2893aede23f01bfcbd2319326bc96a6ed0524eba759745ed6d73405a3a8b67a8\"></div>\\n      \\n        <div class=\"top-bar-right\">\\n            <div class=\"hidden-xs hidden-sm publish-doc\">\\n            </div>\\n      \\n            <div class=\"public-col\">\\n              <div class=\"globe public hidden-xs\">Public</div>\\n            </div>\\n      \\n              <div class=\"postman-run-button\"\\n                data-postman-action=\"collection/import\"\\n                data-postman-var-1=\"631643-f695cab7-6878-eb55-7943-ad88e1ccfd65-JsLv\"\\n                data-postman-var-2=\"latest\"></div>\\n            <script src=\"/js/runbutton.js\" nonce=\"6u1vwYcjrpWFwkj9JpLuD+xRpjVPqg749DmnRZ7nHKOsL9AP\" type=\"text/javascript\" id=\"public-run-button-embed\"\\n              data-web-host=\"https://www.getpostman.com/\"\\n              data-button-url=\"https://run.pstmn.io/button.js\"></script>\\n      \\n      \\n            <div class=\"environment-dropdown dropdown hidden-xs\">\\n                <button class=\"btn btn-default hard--sides disabled\" type=\"button\">\\n                  <div class=\"dropdown-button ellipsis active-environment\" data-environment-id=\"0\">No environment</div>\\n                </button>\\n            </div>\\n      \\n      \\n          <button type=\"button\" class=\"btn pm-btn pm-btn-secondary settings-toggle visible-xs\">\\n            <span class=\"icon settings-icon\"></span>\\n          </button>\\n        </div>\\n      </div>\\n    \\n    \\n      <div class=\"modal\" id=\"rawBodyModal\" tabindex=\"-1\" role=\"dialog\" aria-labelledby=\"myModalLabel\">\\n        <button type=\"button\" class=\"close btn-circle\" data-dismiss=\"modal\" aria-label=\"Close\">\\n          <div>\\n            <span aria-hidden=\"true\">\\xc3\\x97</span>\\n          </div>\\n        </button>\\n        <div class=\"modal-dialog\" role=\"document\">\\n          <div class=\"modal-content\">\\n            <div class=\"modal-body\">\\n            </div>\\n          </div>\\n        </div>\\n      </div>\\n    \\n      <div class=\"modal\" id=\"snippetModal\" tabindex=\"-1\" role=\"dialog\" aria-labelledby=\"documentation-response-modal\">\\n        <button type=\"button\" class=\"close btn-circle\" data-dismiss=\"modal\" aria-label=\"Close\">\\n          <div>\\n            <span aria-hidden=\"true\">\\xc3\\x97</span>\\n          </div>\\n        </button>\\n        <div class=\"modal-dialog\" role=\"document\">\\n          <div class=\"modal-content\">\\n            <div class=\"modal-body\">\\n              <pre><code></code></pre>\\n            </div>\\n          </div>\\n        </div>\\n      </div>\\n    \\n      <div class=\\'container-fluid no-gutter\\'>\\n        <div class=\"row no-gutter\">\\n          <div class=\"col-xs-12 info no-gutter\">\\n            <div id=\"mobile-controls\">\\n    \\n              <label>Environment</label>\\n                <div class=\"environment-dropdown dropdown\">\\n                    <button class=\"btn pm-btn pm-btn-secondary hard--sides disabled\" type=\"button\">\\n                      <div class=\"dropdown-button ellipsis active-environment\" data-environment-id=\"0\">No environment</div>\\n                    </button>\\n                </div>\\n    \\n    \\n            </div>\\n    \\n            <div id=\\'error-view\\'>\\n            </div>\\n    \\n            <div id=\"doc-body\" class=\"is-loading\">\\n              <div class=\"initial-loader\">\\n                <div class=\"spinner\"></div>\\n                Just a moment...\\n              </div>\\n            </div>\\n          </div>\\n          <div class=\"no-gutter phantom-sidebar\"></div>\\n          <div class=\"no-gutter sidebar\" id=\"nav-sidebar\"></div>\\n        </div>\\n      </div>\\n    </div>\\n\\n    <script src=\"https://cdn.ravenjs.com/3.26.2/raven.min.js\" nonce=\"6u1vwYcjrpWFwkj9JpLuD+xRpjVPqg749DmnRZ7nHKOsL9AP\" crossorigin=\"anonymous\"></script>\\n    <script src=\"/js/production.min.js\" nonce=\"6u1vwYcjrpWFwkj9JpLuD+xRpjVPqg749DmnRZ7nHKOsL9AP\" id=\"script-data-scope\"\\n      data-var-user-id=\"\"\\n      data-var-environment=\"production\"\\n      data-var-team-id=\"\"\\n      data-var-host=\"\"\\n      data-var-version=\"\"\\n      data-var-sentry-dsn=\"https://714c749bafde4552896bc6298c2c28a6@sentry.postmanlabs.com/11\"></script>\\n\\n  </body>\\n</html>\\n'\n"
     ]
    }
   ],
   "source": [
    "print(req.content)"
   ]
  },
  {
   "cell_type": "code",
   "execution_count": null,
   "metadata": {},
   "outputs": [],
   "source": []
  }
 ],
 "metadata": {
  "kernelspec": {
   "display_name": "Python 3",
   "language": "python",
   "name": "python3"
  },
  "language_info": {
   "codemirror_mode": {
    "name": "ipython",
    "version": 3
   },
   "file_extension": ".py",
   "mimetype": "text/x-python",
   "name": "python",
   "nbconvert_exporter": "python",
   "pygments_lexer": "ipython3",
   "version": "3.7.3"
  }
 },
 "nbformat": 4,
 "nbformat_minor": 2
}
