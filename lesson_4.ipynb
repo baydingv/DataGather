{
 "cells": [
  {
   "cell_type": "code",
   "execution_count": null,
   "metadata": {},
   "outputs": [],
   "source": [
    "Урок 4. XPath"
   ]
  },
  {
   "cell_type": "code",
   "execution_count": 90,
   "metadata": {
    "scrolled": true
   },
   "outputs": [
    {
     "name": "stdout",
     "output_type": "stream",
     "text": [
      "16\n",
      "<Element a at 0x1ca9e3cfb38>\n"
     ]
    }
   ],
   "source": [
    "import requests\n",
    "#from bs4 import BeautifulSoup as bs   # у нас html странички, потому берем это     \n",
    "from lxml import html\n",
    "from pprint import pprint\n",
    "import time\n",
    "import pandas as pd\n",
    "\n",
    "#Написать приложение, которое собирает основные новости с сайтов mail.ru, lenta.ru.\n",
    "#Для парсинга использовать xpath. Структура данных должна содержать:\n",
    "#* название источника,\n",
    "#* наименование новости,\n",
    "#* ссылку на новость,\n",
    "#* дата публикации\n",
    "def get_record(path):\n",
    "    i_news   = tree.xpath(path+'/text()')[0]\n",
    "    i_link   = main_link+tree.xpath(path+'/@href')[0]\n",
    "    s_date   = main_link+tree.xpath(path+'//time/@datetime')[0]\n",
    "    i_date   = s_date.split(None,1)[1]\n",
    "    i_src    = main_link.split('/')[2]\n",
    "    return[i_src,i_news, i_link,i_date]\n",
    "\n",
    "head ={'User-Agent': 'YaBrowser/19.7.5.90.01'}\n",
    "main_link_1 = 'https://mail.ru/'\n",
    "main_link_2 = 'https://lenta.ru/'\n",
    "main_link = main_link_2\n",
    "time.sleep(0.2); r = requests.get(main_link,headers = head).text\n",
    "tree = html.fromstring(r)\n",
    "lst =[]\n",
    "x_path = '//div[@class = \"first-item\"]//h2//a' #/text()'\n",
    "#first_news   = tree.xpath(x_path+'/text()')[0]\n",
    "#first_link   = main_link+tree.xpath(x_path+'/@href')[0]\n",
    "#first_date   = main_link+tree.xpath(x_path+'//time/@datetime')[0]\n",
    "#first_source = main_link\n",
    "#print(first_news, first_link,first_date)\n",
    "#print('-------------')\n",
    "\n",
    "lst.append(get_record(x_path))\n",
    "\n",
    "\n",
    "#news_list = tree.xpath('//div[@class = \"item\"]//a/text()')\n",
    "\n",
    "#print(len(news_first))\n",
    "#print(len(news_second))\n",
    "#print(news_first[0])\n",
    "news_list = tree.xpath('//div[@class = \"item\"]//a')\n",
    "print(len(news_list))\n",
    "print(news_list[1])\n",
    "#for en in news_list:\n",
    "#    get_record(x_path)\n",
    "#    print(en)\n",
    "#\n"
   ]
  },
  {
   "cell_type": "code",
   "execution_count": 91,
   "metadata": {},
   "outputs": [
    {
     "ename": "SyntaxError",
     "evalue": "invalid syntax (<ipython-input-91-965514197692>, line 1)",
     "output_type": "error",
     "traceback": [
      "\u001b[1;36m  File \u001b[1;32m\"<ipython-input-91-965514197692>\"\u001b[1;36m, line \u001b[1;32m1\u001b[0m\n\u001b[1;33m    print('qqq www'1'first_node[0].text()')\u001b[0m\n\u001b[1;37m                   ^\u001b[0m\n\u001b[1;31mSyntaxError\u001b[0m\u001b[1;31m:\u001b[0m invalid syntax\n"
     ]
    }
   ],
   "source": [
    "s= 'qqq www'{1}'first_node[0].text()')"
   ]
  },
  {
   "cell_type": "code",
   "execution_count": 85,
   "metadata": {},
   "outputs": [
    {
     "data": {
      "text/plain": [
       "'feerger kjedkejf'"
      ]
     },
     "execution_count": 85,
     "metadata": {},
     "output_type": "execute_result"
    }
   ],
   "source": [
    "'defvvfv feerger kjedkejf'.split(None,1)[1]"
   ]
  },
  {
   "cell_type": "code",
   "execution_count": null,
   "metadata": {},
   "outputs": [],
   "source": []
  }
 ],
 "metadata": {
  "kernelspec": {
   "display_name": "Python 3",
   "language": "python",
   "name": "python3"
  },
  "language_info": {
   "codemirror_mode": {
    "name": "ipython",
    "version": 3
   },
   "file_extension": ".py",
   "mimetype": "text/x-python",
   "name": "python",
   "nbconvert_exporter": "python",
   "pygments_lexer": "ipython3",
   "version": "3.7.3"
  }
 },
 "nbformat": 4,
 "nbformat_minor": 2
}
